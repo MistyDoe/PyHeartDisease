{
 "cells": [
  {
   "cell_type": "code",
   "execution_count": 3,
   "metadata": {},
   "outputs": [],
   "source": [
    "import pandas as pd\n",
    "import numpy as np\n",
    "from sklearn import linear_model\n",
    "import seaborn as sns\n",
    "import matplotlib.pyplot as plt\n",
    "import missingno as mno"
   ]
  },
  {
   "cell_type": "code",
   "execution_count": null,
   "metadata": {},
   "outputs": [],
   "source": [
    "clevelandData = pd.read_csv(\"processed.cleveland.data\", sep =\",\", header= None, na_values=[\"?\"])\n",
    "switzerlandData = pd.read_csv(\"processed.switzerland.data\", sep= \",\", header= None, na_values=[\"?\"])\n",
    "longbeachData = pd.read_csv(\"processed.va.data\", sep = \",\" , header=None, na_values=[\"?\"])\n",
    "hungarianData = pd.read_csv(\"reprocessed.hungarian.data\", sep = \" \" , header=None, na_values=[\"?\"])\n",
    "data = pd.concat([clevelandData, switzerlandData, longbeachData, hungarianData])\n",
    "data.columns = [\"age\", \"sex\", \"cp\", \"trestbps\", \"chol\", \"fbs\" , \"restecg\", \"thalach\", \"exang\", \"oldpeak\", \"slope\", \"ca\", \"thal\", \"prediction\"]"
   ]
  }
 ],
 "metadata": {
  "kernelspec": {
   "display_name": ".venv",
   "language": "python",
   "name": "python3"
  },
  "language_info": {
   "codemirror_mode": {
    "name": "ipython",
    "version": 3
   },
   "file_extension": ".py",
   "mimetype": "text/x-python",
   "name": "python",
   "nbconvert_exporter": "python",
   "pygments_lexer": "ipython3",
   "version": "3.11.3"
  },
  "orig_nbformat": 4
 },
 "nbformat": 4,
 "nbformat_minor": 2
}
